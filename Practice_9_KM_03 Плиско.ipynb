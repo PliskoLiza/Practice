{
  "nbformat": 4,
  "nbformat_minor": 0,
  "metadata": {
    "colab": {
      "name": "Practice_7_KM-01_.ipynb",
      "provenance": [],
      "collapsed_sections": []
    },
    "kernelspec": {
      "name": "python3",
      "display_name": "Python 3.9.0 64-bit",
      "metadata": {
        "interpreter": {
          "hash": "0d008810b9c8467bcb3ca39aa2180e5b81b3a9acb136aab30d47954377cc5120"
        }
      }
    }
  },
  "cells": [
    {
      "cell_type": "markdown",
      "metadata": {
        "id": "FMqboNwO4rVs"
      },
      "source": [
        "# **Курс \"Програмування на мові Python\"**\n",
        "\n",
        "##### Викладачі:\n",
        "##### Борисенко Павло Борисович\n",
        "##### Щьоголєв Максим Олегович\n"
      ]
    },
    {
      "cell_type": "markdown",
      "metadata": {
        "id": "A2T6MigL5Z06"
      },
      "source": [
        "## **Практичне зайняття №9**\n",
        "\n",
        "### Тема: \"Лямбда-функції. Функції вищих порядків\""
      ]
    },
    {
      "cell_type": "markdown",
      "metadata": {
        "id": "cfCdgK2zXm7e"
      },
      "source": [
        "### **Завдання 1 (1 бал)**\n",
        "\n",
        "Продавець роздрібного товару влаштовує розпродаж. Для всіх товарів знижка однакова - 60%. Щоб вивісити нові цінники, продавець хоче скласти таблицю, в якій для кожного товару буде підрахована його нова вартість та сума знижки.\n",
        "\n",
        "Написати програму, яка буде генерувати таку таблицю. Вартість одиниць товарів до розпродажу подано у списку products_list. \n",
        "\n",
        "1. Для підрахунку невідомих значень повинні використовуватись вбудовані функції вищих порядків.\n",
        "\n",
        "2. Вартість з урахуванням знижки та суми знижок для кожного товару повинні зберігатись у двох окремих списках. Порядок товарів у нових списках повинен бути такий самий, як і в списку products_list.\n",
        "\n",
        "3. Кожне підраховане числове значення має бути округлене до сотих.\n",
        "\n",
        "4. Дані повинні виводитись у вигляді:\n",
        "\n",
        "**Discount table:**\n",
        "\n",
        "**29.25 11.7 17.55**\n",
        "\n",
        "**48.99 19.6 29.39**\n",
        "\n",
        "**...**\n",
        "\n",
        "\n",
        "products_list = [[29.25, 48.99, 99.98, 124.65, 214.30, 543.90, 799.85]]\n"
      ]
    },
    {
      "cell_type": "code",
      "execution_count": 8,
      "metadata": {},
      "outputs": [
        {
          "output_type": "stream",
          "name": "stdout",
          "text": [
            "Discount table:\n29.25 11.7 17.55\n48.99 19.6 29.39\n99.98 39.99 59.99\n124.65 49.86 74.79\n214.3 85.72 128.58\n543.9 217.56 326.34\n799.85 319.94 479.91\n"
          ]
        }
      ],
      "source": [
        "# Звичайна версія завдання без вводу\n",
        "products_list = [29.25, 48.99, 99.98, 124.65, 214.30, 543.90, 799.85]\n",
        "discount_price = list(map(lambda i: round(i * 4/10, 2), products_list))\n",
        "discount = list(map(lambda i: round(i * 6/10, 2), products_list))\n",
        "table = list(map(lambda x, y, z:f'{x} '+f'{y} '+f'{z}', products_list, discount_price, discount))\n",
        "print('Discount table:')\n",
        "dt = list(map(lambda x: print(x), table))"
      ]
    },
    {
      "cell_type": "code",
      "execution_count": 12,
      "metadata": {},
      "outputs": [
        {
          "output_type": "stream",
          "name": "stdout",
          "text": [
            "If you enter \"*\" instead of percent, will be displayed an example with 60% discount\n",
            "Discount table:\n",
            "29.25 11.7 17.55\n",
            "48.99 19.6 29.39\n",
            "99.98 39.99 59.99\n",
            "124.65 49.86 74.79\n",
            "214.3 85.72 128.58\n",
            "543.9 217.56 326.34\n",
            "799.85 319.94 479.91\n"
          ]
        }
      ],
      "source": [
        "# Версія завдання з вводом з клавіатури та звичайною версією завдання, що активується клавішею '*'\n",
        "# Версія завдання з вводом з клавіатури та звичайною версією завдання, що активується клавішею '*'\n",
        "def getNumber(support_text):\n",
        "    while True:\n",
        "        getTempNumber = input(support_text)\n",
        "        try:\n",
        "            if getTempNumber == '*':\n",
        "                NotNumber = '*'\n",
        "                return NotNumber\n",
        "            else:\n",
        "                getTempNumber = float(getTempNumber)\n",
        "        except ValueError:\n",
        "            print(f'\"{getTempNumber}\" is not a number')\n",
        "        else:\n",
        "            if getTempNumber <= 0:\n",
        "                print(f'\"{getTempNumber}\" is not a positive number')\n",
        "            else:\n",
        "                break\n",
        "    return getTempNumber\n",
        "\n",
        "\n",
        "print('If you enter \"*\" instead of percent, will be displayed an example with 60% discount')\n",
        "example = [29.25, 48.99, 99.98, 124.65, 214.30, 543.90, 799.85]\n",
        "products_list = list()\n",
        "while True:\n",
        "    percent = getNumber('Input a discount in a percent: ')\n",
        "    if percent != '*' and percent < 100:\n",
        "        print('If all price are entered, press \"*\"')\n",
        "        break\n",
        "    elif percent == '*':\n",
        "        break\n",
        "    elif percent != '*' and percent >= 100:\n",
        "        print('Invalid value of discount')\n",
        "price = 0\n",
        "\n",
        "if percent == '*':\n",
        "    discount_price = list(map(lambda i: round(i * 4 / 10, 2), example))\n",
        "    discount = list(map(lambda i: round(i * 6 / 10, 2), example))\n",
        "    print('Discount table:')\n",
        "    list(map(lambda x, y, z: print(x, y, z), example, discount_price, discount))\n",
        "else:\n",
        "    while True:\n",
        "        price = getNumber('Input a price of a product: ')\n",
        "        if price == '*':\n",
        "            print('Discount table:')\n",
        "            break\n",
        "        else:\n",
        "            products_list.append(round(price, 2))\n",
        "\n",
        "discount_price = list(map(lambda i: round(i * (100 - percent) / 100, 2), products_list))\n",
        "discount = list(map(lambda i: round(i * percent / 100, 2), products_list))\n",
        "for i in range(0, len(discount)):\n",
        "    print(products_list[i], discount_price[i], discount[i])\n"
      ]
    },
    {
      "source": [
        "### **Завдання 2 (2 бали)**\n",
        "\n",
        "Зазвичай рік має 365 днів. Однак у високосні роки додається ще один день - 29 лютого. Правила визначення високосного року такі:\n",
        "\n",
        "- Будь-який рік, що ділиться на 400 - високосний.\n",
        "\n",
        "- З тих років, що залишились, будь-який рік, що ділиться на 100 - **не** високосний.\n",
        "\n",
        "- З тих років, що залишились, будь-який рік, що ділиться на 4 - високосний.\n",
        "\n",
        "- Усі інші роки, що залишились - **не** високосні.\n",
        "\n",
        "1) Створіть функцію, в якій за допомогою вбудованих функцій вищих порядків будуть визначатися високосні роки серед перелічених років у списку years. Створена функція має повертати список високосних років.\n",
        "\n",
        "2) Створіть функцію вищих порядків, яка прийматиме на вхід попередню функцію та визначатиме кількість днів у місяці. Також функція повинна приймати на вхід ще 2 параметри: ціле число від 1 до 12 (місяць) та рік, як ціле чотирицифрове число. Ці значення корисувач має вводити з клавіатури. Перевірку введених даних слід виконувати поза межами функцій."
      ],
      "cell_type": "markdown",
      "metadata": {}
    },
    {
      "cell_type": "code",
      "execution_count": 13,
      "metadata": {},
      "outputs": [
        {
          "output_type": "stream",
          "name": "stdout",
          "text": [
            "This month has 29 days\n"
          ]
        }
      ],
      "source": [
        "import numpy as np\n",
        "\n",
        "years = np.arange(1900, 2020 + 1, 1)\n",
        "\n",
        "\n",
        "def getNumber(support_text):\n",
        "    while True:\n",
        "        getTempNumber = input(support_text)\n",
        "        try:\n",
        "            getTempNumber = int(getTempNumber)\n",
        "        except ValueError:\n",
        "            print(f'\"{getTempNumber}\" is not an integer')\n",
        "        else:\n",
        "            if getTempNumber < 1:\n",
        "                print('The number must be positive')\n",
        "            else:\n",
        "                break\n",
        "    return getTempNumber\n",
        "\n",
        "\n",
        "def leap():\n",
        "    leapYear = list(filter(lambda i: i % 400 == 0 or i % 4 == 0 and i % 100 != 0, years))  # leap\n",
        "    return leapYear\n",
        "\n",
        "\n",
        "def days(leap, month, year):\n",
        "    if month in [1, 3, 5, 7, 8, 10, 12]:\n",
        "        return 31\n",
        "    elif month in [4, 6, 9, 11]:\n",
        "        return 30\n",
        "    else:\n",
        "        if year in leap():\n",
        "            return 29\n",
        "        else:\n",
        "            return 28\n",
        "\n",
        "\n",
        "while True:\n",
        "    month = getNumber('Input a month: ')\n",
        "    if month < 1 or month > 12:\n",
        "        print('The number of month must be between 1 and 12')\n",
        "    else:\n",
        "        while True:\n",
        "            year = getNumber('Input a year: ')\n",
        "            if year < 1900 or year > 2020:\n",
        "                print('The number of year must be between 1900 and 2020')\n",
        "            else:\n",
        "                print(f'This month has {days(leap, month, year)} days')\n",
        "                break\n",
        "        break\n"
      ]
    },
    {
      "cell_type": "code",
      "execution_count": null,
      "metadata": {},
      "outputs": [],
      "source": []
    }
  ]
}