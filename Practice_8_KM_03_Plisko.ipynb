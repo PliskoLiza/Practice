{
  "nbformat": 4,
  "nbformat_minor": 0,
  "metadata": {
    "colab": {
      "name": "Practice_7_KM-01_.ipynb",
      "provenance": [],
      "collapsed_sections": []
    },
    "kernelspec": {
      "name": "python3",
      "display_name": "Python 3"
    }
  },
  "cells": [
    {
      "cell_type": "markdown",
      "metadata": {
        "id": "FMqboNwO4rVs"
      },
      "source": [
        "# **Курс \"Програмування на мові Python\"**\n",
        "\n",
        "##### Викладачі:\n",
        "##### Борисенко Павло Борисович\n",
        "##### Щьоголєв Максим Олегович\n"
      ]
    },
    {
      "cell_type": "markdown",
      "metadata": {
        "id": "A2T6MigL5Z06"
      },
      "source": [
        "## **Практичне зайняття №8**\n",
        "\n",
        "### Тема: \"Робота з функціями. Локальні та глобальні змінні\""
      ]
    },
    {
      "cell_type": "markdown",
      "metadata": {
        "id": "cfCdgK2zXm7e"
      },
      "source": [
        "### **Завдання 1 (3 бали)**\n",
        "\n",
        "**Підрахувати визначник матриці, використовуючи перестановки та символ Леві-Чивіти.**\n",
        "\n",
        "Функція random_matrix() призначена для створення квадратної матриці випадкових чисел. Її змінювати непотрібно.\n",
        "\n",
        "Приклад використання методу permutations() для створення списку перестановок також подається у комірці з кодом.\n",
        "\n",
        "1) Створити 3 функції: функцію створення списку перестановок, функцію підрахунку добутків та функцію підрахунку загальної суми.\n",
        "\n",
        "2) Кожна функція має супроводжуватись рядком документації, що буде коротко описувати її призначення.\n",
        "\n",
        "3) Розмірність квадратної матриці має вводитись користувачем з клавіатури. Підрахунки виконувати лише в тому разі, якщо користувач введе ціле додатне число.\n",
        "\n",
        "4) Загальний результат повинен підраховуватись за допомогою композиції функцій.\n",
        "\n",
        "За бажання можна перевірити правильність роботи програми за допомогою функції np.linalg.det(a)."
      ]
    },
    {
      "cell_type": "code",
      "metadata": {
        "id": "ifNX2M7LXm7f"
      },
      "source": [
        "import numpy as np\n",
        "import itertools\n",
        "\n",
        "\n",
        "def moves(count):\n",
        "    ''' The function creates a list of the permutations'''\n",
        "    numline = []\n",
        "    for i in range(0, count):\n",
        "        numline.append(i)\n",
        "    return list(itertools.permutations(numline, count))\n",
        "\n",
        "def multiplication(num):\n",
        "    ''' The function adds matrix elements to the new list named \"m\"\n",
        "    according to permutation, multiplied by returned element from function \"index()\" '''\n",
        "    def index(ind):\n",
        "        '''The function return minus one to the extent of the number\n",
        "        of inversions in the permutation'''\n",
        "        N = 0\n",
        "        for i in range(0, len(ind)-1):\n",
        "            for k in range(i+1, len(ind)):\n",
        "                if ind[i] > ind[k]:\n",
        "                    N += 1\n",
        "        return (-1) ** N\n",
        "    m = []\n",
        "    for i in range(0, len(per)):\n",
        "        m.append(1)\n",
        "        for k in range(0, len(per[i])):\n",
        "            m[i] = m[i] * a[k][per[i][k]]\n",
        "        m[i] = m[i] * index((per[i]))\n",
        "\n",
        "    return m\n",
        "\n",
        "\n",
        "def sum(mult):\n",
        "    ''' The function sums the element of the tuple\n",
        "    returned by function \"multiplication()\" '''\n",
        "    s = 0\n",
        "    for i in range(0, len(mult)):\n",
        "        s += mult[i]\n",
        "    return s\n",
        "\n",
        "\n",
        "def getNumber(support_text):\n",
        "    ''' The function checks the number for compliance with the task conditions'''\n",
        "    while True:\n",
        "        getTempNumber = input(support_text)\n",
        "        try:\n",
        "            getTempNumber = int(getTempNumber)\n",
        "        except ValueError:\n",
        "            print(f'\"{getTempNumber}\" Не є цілим числом')\n",
        "        else:\n",
        "            if getTempNumber < 1:\n",
        "                print(f'\"{getTempNumber}\" Матриця повинна мати хоча б один елемент.'\n",
        "                      f' Введіть заново')\n",
        "            else:\n",
        "                break\n",
        "\n",
        "    return getTempNumber\n",
        "def getElement(support_text):\n",
        "    ''' The function checks the element of the matrix\n",
        "    for compliance with the task conditions'''\n",
        "    while True:\n",
        "        getTempElement = input(support_text)\n",
        "        try:\n",
        "            getTempElement = float(getTempElement)\n",
        "        except ValueError:\n",
        "            print(f'\"{getTempElement}\" Не є числом')\n",
        "        else:\n",
        "            break\n",
        "\n",
        "    return getTempElement\n",
        "\n",
        "\n",
        "n = getNumber('Розмірність: ')\n",
        "a = []\n",
        "for i in range(0, n):\n",
        "    a.append([])\n",
        "    for k in range(0, n):\n",
        "        a[i].append(getElement(f'a{i}{k} ='))\n",
        "print('Матриця: \\n', a)\n",
        "per = moves(n)\n",
        "print('Результат: ', round(sum(multiplication(per)), 3))\n",
        "print('Додаткова перевірка: ', round(np.linalg.det(a), 3))\n"
      ],
      "execution_count": null,
      "outputs": []
    }
  ]
}