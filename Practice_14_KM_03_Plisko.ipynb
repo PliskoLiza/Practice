{
  "nbformat": 4,
  "nbformat_minor": 0,
  "metadata": {
    "colab": {
      "name": "Practice_14_KM_01.ipynb",
      "provenance": [],
      "collapsed_sections": []
    },
    "kernelspec": {
      "name": "python3",
      "display_name": "Python 3.9.0 64-bit",
      "metadata": {
        "interpreter": {
          "hash": "ac59ebe37160ed0dfa835113d9b8498d9f09ceb179beaac4002f036b9467c963"
        }
      }
    }
  },
  "cells": [
    {
      "cell_type": "markdown",
      "metadata": {
        "id": "FMqboNwO4rVs"
      },
      "source": [
        "# **Курс \"Програмування на мові Python\"**\n",
        "\n",
        "##### Викладачі:\n",
        "##### Борисенко Павло Борисович\n",
        "##### Щьоголєв Максим Олегович\n"
      ]
    },
    {
      "cell_type": "markdown",
      "metadata": {
        "id": "A2T6MigL5Z06"
      },
      "source": [
        "## **Практичне зайняття №14**\n",
        "\n",
        "### Тема: \"Робота з файлами\""
      ]
    },
    {
      "cell_type": "markdown",
      "metadata": {
        "id": "cfCdgK2zXm7e"
      },
      "source": [
        "### **Завдання 1 (1,5 бали)**\n",
        "\n",
        "У 1939 році друком вийшов роман американського письменика Ернеста Вінсента Райта \"Ґедсбі\". Особливу увагу публіки він здобув через те, що письменник жодного разу не використав у романі літеру \"e\" (роман складається з більше ніж 50,000 слів), яка є найбільш вживаною літерою в англійській мові.\n",
        "\n",
        "Порахуйте кількість входжень кожної літери у текст роману. Виведіть список літер англійського алфавіту, а також інформацію про те, скільки відсотків від усіх літер тексту складає кожна літера алфавіту.\n",
        "\n",
        "Зауваження:\n",
        "\n",
        "1. Програма має ігнорувати будь-які символи, окрім літер.\n",
        "\n",
        "2. Переведіть усі літери у верхній або у нижній регістр.\n",
        "\n",
        "3. Під час виведення відсортуйте літери у порядку зменшення їхнього відсотка. Літера \"e\" має стояти на останньому місці у цьому списку.\n",
        "\n",
        "4. Виведіть перші 5 та останні 5 літер відсортованого списку разом з відсотковими значеннями, що їм відповідають."
      ]
    },
    {
      "cell_type": "code",
      "metadata": {
        "tags": [],
        "id": "u4-fHJJ6U462"
      },
      "source": [
        "import string\n",
        "gadsby = open('gadsby.txt', 'r')\n",
        "gadsby_file = gadsby.readlines()\n",
        "all = 0\n",
        "print()\n",
        "print('List of letters of the English alphabet: ', string.ascii_lowercase)\n",
        "d = {i: 0 for i in string.ascii_lowercase}\n",
        "for i in gadsby_file:\n",
        "    for k in i:\n",
        "        if k.lower() in string.ascii_lowercase:\n",
        "            d[k.lower()] += 1\n",
        "            all += 1\n",
        "larger = list(d.items())\n",
        "\n",
        "n = True\n",
        "while n:\n",
        "    n = False\n",
        "    for i in range(0, len(larger)-1):\n",
        "        if larger[i][1] < larger[i+1][1]:\n",
        "            b = larger[i+1]\n",
        "            larger[i+1] = larger[i]\n",
        "            larger[i] = b\n",
        "            n = True\n",
        "\n",
        "sum = 0\n",
        "print('_'*40)\n",
        "print('Percentage of letters in text: ')\n",
        "for i in larger:\n",
        "    sum += i[1]\n",
        "    print(i[0], '=', round(i[1]*100/all,2), '%', end='; ')\n",
        "print('\\n')\n",
        "print('_'*40)\n",
        "print(' 5 most used letters: ')\n",
        "for i in range(5):\n",
        "    print(larger[i][0], '=', round(larger[i][1]*100/all,2), '%')\n",
        "print('_'*40)\n",
        "print(' 5 least used letters: ')\n",
        "for i in range(-1, -6, -1):\n",
        "    print(larger[i][0], '=', round(larger[i][1]*100/all,2), '%')"
      ],
      "execution_count": null,
      "outputs": []
    },
    {
      "cell_type": "markdown",
      "metadata": {
        "id": "A34oz70eU463"
      },
      "source": [
        "### **Завдання 2 (1,5 бали)**\n",
        "\n",
        "Створіть CSV-файл, що буде містити від 5 до 10 пісень (творів) вашого улюбленого музиканта. Назва файлу - ім'я музиканта (композитора) або назва гурту.\n",
        "\n",
        "1. Обов'язково додайте до файлу рядок з назвами двох колонок (Song, Year) або (Composition, Year).\n",
        "\n",
        "2. Після запису файлу роздрукуйте назву файлу та усі наявні у файлі рядки (включно із заголовками).\n",
        "\n",
        "3. Для запису та зчитування рядків скористайтесь функціями csv.DictWriter() та csv.DictReader()."
      ]
    },
    {
      "cell_type": "code",
      "metadata": {
        "id": "MEJIrG1GU463"
      },
      "source": [
        "import csv\n",
        "with open('Linkin Park.csv', 'w', newline='') as csvfile:\n",
        "    fieldnames = ['Song', 'Year']\n",
        "    writer = csv.DictWriter(csvfile, fieldnames=fieldnames)\n",
        "    writer.writeheader()\n",
        "    writer.writerow({'Song': 'Numb',\n",
        "                     'Year': '2003'})\n",
        "    writer.writerow({'Song': 'In the End',\n",
        "                     'Year': '2002'})\n",
        "    writer.writerow({'Song': 'Crawling',\n",
        "                     'Year': '2000'})\n",
        "    writer.writerow({'Song': 'Burn it down',\n",
        "                     'Year': '2012'})\n",
        "    writer.writerow({'Song': 'Castle of Glass',\n",
        "                     'Year': '2012'})\n",
        "    writer.writerow({'Song': 'Faint',\n",
        "                     'Year': '2003'})\n",
        "with open('Linkin Park.csv', newline='') as csvfile:\n",
        "    reader = csv.DictReader(csvfile)\n",
        "    for heading in reader.fieldnames:\n",
        "        print(heading, end=' ')\n",
        "    print('\\n------------------------------')\n",
        "    for row in reader:\n",
        "        print(row['Song'],'||', row['Year'])\n",
        "print('_'*40)\n",
        "print('It is all')"
      ],
      "execution_count": null,
      "outputs": []
    },
    {
      "cell_type": "markdown",
      "metadata": {
        "id": "Jb-eSBsWU464"
      },
      "source": [
        "### **Завдання 3 (бонусне, 1 бал)**\n",
        "\n",
        "COCO Dataset - набір фотографій та анотацій до них. Його дуже часто використовують для тренування класифікаторів, призначених для розпізнавання об'єктів та визначення ключових точок на зображеннях.\n",
        "\n",
        "Завантажте файли з описом фотографій COCO Dataset за посиланням: http://images.cocodataset.org/annotations/image_info_test2017.zip\n",
        "\n",
        "1. Відкрийте файл image_info_test-dev2017.json. Інформація про фотографії з бази COCO міститься у полі \"images\". Інформація про категорії, на які розділені всі фотографії, міститься у полі \"categories\".\n",
        "\n",
        "2. Визначте кількість фотографій, інформацію про які можна знайти у цьому файлі (кількість елементів, що відповідають ключу \"images\").\n",
        "\n",
        "3. Визначте кількість наявних категорій (кількість елементів, що відповідають ключу \"categories\").\n",
        "\n",
        "4. Виведіть посилання на фотографію 000000000001.jpg (\"coco_url\"), висоту цієї фотографії (\"height\"), ширину (\"width\") та її ідентифікатор (\"id\").\n",
        "\n",
        "5. Опис структури JSON-файлу для набору фотографій COCO можна знайти за посиланням: https://cocodataset.org/#format-data\n",
        "\n",
        "6. Щоб перевірити правильність результатів, у VS Code встановіть розширення JSON та відкрийте файл image_info_test-dev2017.json. Розширення автоматично визначає кількість елементів у кожному полі."
      ]
    },
    {
      "cell_type": "code",
      "metadata": {
        "id": "74C6WKB_U464"
      },
      "source": [
        "import json\n",
        "with open('image_info_test-dev2017.json') as f:\n",
        "    data = json.load(f)\n",
        "c = 0\n",
        "for d in data['categories']:\n",
        "    c += 1\n",
        "i = 0\n",
        "for d in data['images']:\n",
        "    i += 1\n",
        "image = 0\n",
        "height = 0\n",
        "width = 0\n",
        "id = 0\n",
        "for d in data['images']:\n",
        "    if '000000000001.jpg' in d['coco_url']:\n",
        "        image = d['coco_url']\n",
        "        height = d['height']\n",
        "        width = d['width']\n",
        "        id = d['id']\n",
        "\n",
        "print('Count of images: ', i)\n",
        "print('Count of categories: ', c)\n",
        "print('Link to the image: ', image, '\\nHeight of the image: ', height, '\\nWidth of the image: ',\n",
        "      width, '\\nID of the image: ', id)\n"
      ],
      "execution_count": null,
      "outputs": []
    }
  ]
}